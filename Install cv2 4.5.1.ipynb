{
 "cells": [
  {
   "cell_type": "markdown",
   "id": "aac2d901",
   "metadata": {},
   "source": [
    "# in advance I have to send my best regards to automaticaddison.com\n",
    "\n",
    "\n",
    "## Jetson Nano came with cv  opencv 4.1.1. While, the ersion of 4.5.1 can run on Gpu and also provides more facilities so to install 4.5.1 I create this toturial"
   ]
  },
  {
   "cell_type": "markdown",
   "id": "d4bc453a",
   "metadata": {},
   "source": [
    "# Just copy the following line in your terminal\n",
    "\n",
    "\n",
    "1) sudo sh -c \"echo '/usr/local/cuda/lib64' >> /etc/ld.so.conf.d/nvidia-tegra.conf\"\n",
    "\n",
    "\n",
    "2) sudo ldconfig\n"
   ]
  },
  {
   "cell_type": "markdown",
   "id": "26bef9fb",
   "metadata": {},
   "source": [
    "# Install required package \n",
    "\n",
    "\n",
    "\n",
    "1) sudo apt-get install build-essential cmake git unzip pkg-config\n",
    "\n",
    "2) sudo apt-get install libjpeg-dev libpng-dev libtiff-dev\n",
    "\n",
    "3) sudo apt-get install libavcodec-dev libavformat-dev libswscale-dev\n",
    "\n",
    "4) sudo apt-get install libgtk2.0-dev libcanberra-gtk*\n",
    "\n",
    "5) sudo apt-get install python3-dev python3-numpy python3-pip\n",
    "\n",
    "6) sudo apt-get install libxvidcore-dev libx264-dev libgtk-3-dev\n",
    "\n",
    "7) sudo apt-get install libtbb2 libtbb-dev libdc1394-22-dev\n",
    "\n",
    "8) sudo apt-get install libv4l-dev v4l-utils\n",
    "\n",
    "9) sudo apt-get install libgstreamer1.0-dev libgstreamer-plugins-base1.0-dev\n",
    "\n",
    "10) sudo apt-get install libavresample-dev libvorbis-dev libxine2-dev\n",
    "\n",
    "11) sudo apt-get install libfaac-dev libmp3lame-dev libtheora-dev\n",
    "\n",
    "12) sudo apt-get install libopencore-amrnb-dev libopencore-amrwb-dev\n",
    "\n",
    "13) sudo apt-get install libopenblas-dev libatlas-base-dev libblas-dev\n",
    "\n",
    "14) sudo apt-get install liblapack-dev libeigen3-dev gfortran\n",
    "\n",
    "15) sudo apt-get install libhdf5-dev protobuf-compiler\n",
    "\n",
    "16) sudo apt-get install libprotobuf-dev libgoogle-glog-dev libgflags-dev\n"
   ]
  },
  {
   "cell_type": "markdown",
   "id": "c0ca6b2a",
   "metadata": {},
   "source": [
    "# clone opencv and opencv_contrib and unzip it\n",
    "\n",
    "\n",
    "cd ~\n",
    "\n",
    "wget -O opencv.zip https://github.com/opencv/opencv/archive/4.5.1.zip\n",
    "\n",
    "wget -O opencv_contrib.zip https://github.com/opencv/opencv_contrib/archive/4.5.1.zip\n",
    "\n",
    "unzip opencv.zip\n",
    "\n",
    "unzip opencv_contrib.zip\n",
    "\n",
    "\n",
    "\n",
    "\n",
    "# Rename folders\n",
    "\n",
    "\n",
    "\n",
    "mv opencv-4.5.1 opencv\n",
    "\n",
    "mv opencv_contrib-4.5.1 opencv_contrib\n",
    "\n",
    "rm opencv.zip\n",
    "\n",
    "rm opencv_contrib.zip\n"
   ]
  },
  {
   "cell_type": "markdown",
   "id": "33a463d9",
   "metadata": {},
   "source": [
    "# Build the opencv\n",
    "\n",
    "\n",
    "1) cd ~/opencv\n",
    "\n",
    "2) mkdir build\n",
    "\n",
    "3) cd build\n",
    "\n",
    "\n",
    "4) cmake -D CMAKE_BUILD_TYPE=RELEASE \\\n",
    "-D CMAKE_INSTALL_PREFIX=/usr \\\n",
    "-D OPENCV_EXTRA_MODULES_PATH=~/opencv_contrib/modules \\\n",
    "-D EIGEN_INCLUDE_PATH=/usr/include/eigen3 \\\n",
    "-D WITH_OPENCL=OFF \\\n",
    "-D WITH_CUDA=ON \\\n",
    "-D CUDA_ARCH_BIN=5.3 \\\n",
    "-D CUDA_ARCH_PTX=\"\" \\\n",
    "-D WITH_CUDNN=ON \\\n",
    "-D WITH_CUBLAS=ON \\\n",
    "-D ENABLE_FAST_MATH=ON \\\n",
    "-D CUDA_FAST_MATH=ON \\\n",
    "-D OPENCV_DNN_CUDA=ON \\\n",
    "-D ENABLE_NEON=ON \\\n",
    "-D WITH_QT=OFF \\\n",
    "-D WITH_OPENMP=ON \\\n",
    "-D WITH_OPENGL=ON \\\n",
    "-D BUILD_TIFF=ON \\\n",
    "-D WITH_FFMPEG=ON \\\n",
    "-D WITH_GSTREAMER=ON \\\n",
    "-D WITH_TBB=ON \\\n",
    "-D BUILD_TBB=ON \\\n",
    "-D BUILD_TESTS=OFF \\\n",
    "-D WITH_EIGEN=ON \\\n",
    "-D WITH_V4L=ON \\\n",
    "-D WITH_LIBV4L=ON \\\n",
    "-D OPENCV_ENABLE_NONFREE=ON \\\n",
    "-D INSTALL_C_EXAMPLES=OFF \\\n",
    "-D INSTALL_PYTHON_EXAMPLES=OFF \\\n",
    "-D BUILD_NEW_PYTHON_SUPPORT=ON \\\n",
    "-D BUILD_opencv_python3=TRUE \\\n",
    "-D OPENCV_GENERATE_PKGCONFIG=ON \\\n",
    "-D BUILD_EXAMPLES=OFF ..\n",
    "\n",
    "\n",
    "\n",
    "It can take some times up to 1 hour, so please close all the programs and just wait\n",
    "after it finish you must see \n",
    "\n",
    "-- configuration done\n",
    "\n",
    "-- generation done\n",
    "\n",
    "build file have been writen to < a directory >"
   ]
  },
  {
   "cell_type": "markdown",
   "id": "5e914ab3",
   "metadata": {},
   "source": [
    "# Now we are just 1-2 hour away to finish :)\n",
    "\n",
    "Run:\n",
    "\n",
    "make -j4\n",
    "\n",
    "\n",
    "Note: it can take up to 3 hours, if it stoped before reaching to 100, drink a cool water and re-enter camke command and then run make -j4"
   ]
  },
  {
   "cell_type": "markdown",
   "id": "5a47f2e6",
   "metadata": {},
   "source": [
    "# Final Steps\n",
    "\n",
    "\n",
    "\n",
    "cd ~\n",
    "\n",
    "sudo rm -r /usr/include/opencv4/opencv2\n",
    "\n",
    "cd ~/opencv/build\n",
    "\n",
    "sudo make install\n",
    "\n",
    "sudo ldconfig\n",
    "\n",
    "make clean\n",
    "\n",
    "sudo apt-get update\n",
    "\n",
    "python3"
   ]
  },
  {
   "cell_type": "code",
   "execution_count": 1,
   "id": "ec77e84a",
   "metadata": {},
   "outputs": [
    {
     "name": "stdout",
     "output_type": "stream",
     "text": [
      "4.5.1\n"
     ]
    }
   ],
   "source": [
    "# Test cv2 version\n",
    "\n",
    "\n",
    "\n",
    "\n",
    "import cv2\n",
    "\n",
    "print(cv2.__version__)\n",
    "\n",
    "\n",
    "\n"
   ]
  },
  {
   "cell_type": "markdown",
   "id": "1d571ddf",
   "metadata": {},
   "source": [
    "# Clean the space\n",
    "\n",
    "sudo rm -rf ~/opencv\n",
    "\n",
    "sudo rm -rf ~/opencv_contrib\n",
    "\n",
    "cd ~\n",
    "\n",
    "Install Jtop to monitor jetson Nano\n",
    "\n",
    "sudo -H pip3 install -U jetson-stats\n",
    "\n",
    "sudo reboot\n",
    "\n",
    "jtop\n",
    "\n",
    "\n",
    "in this state press 7 and you can see the version of cv2 and it can compile on cuda\n"
   ]
  },
  {
   "cell_type": "code",
   "execution_count": null,
   "id": "e3c06261",
   "metadata": {},
   "outputs": [],
   "source": []
  }
 ],
 "metadata": {
  "kernelspec": {
   "display_name": "Python 3",
   "language": "python",
   "name": "python3"
  },
  "language_info": {
   "codemirror_mode": {
    "name": "ipython",
    "version": 3
   },
   "file_extension": ".py",
   "mimetype": "text/x-python",
   "name": "python",
   "nbconvert_exporter": "python",
   "pygments_lexer": "ipython3",
   "version": "3.6.9"
  }
 },
 "nbformat": 4,
 "nbformat_minor": 5
}
